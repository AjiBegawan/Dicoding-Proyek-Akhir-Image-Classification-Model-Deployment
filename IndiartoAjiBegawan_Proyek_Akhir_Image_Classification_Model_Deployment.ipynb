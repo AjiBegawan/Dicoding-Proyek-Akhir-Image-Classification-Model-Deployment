{
  "nbformat": 4,
  "nbformat_minor": 0,
  "metadata": {
    "colab": {
      "provenance": [],
      "collapsed_sections": [
        "K6-OrwE9NQBG",
        "7i-cqh4gQIq4",
        "Ws7EZqKlGSRw"
      ]
    },
    "kernelspec": {
      "name": "python3",
      "display_name": "Python 3"
    },
    "language_info": {
      "name": "python"
    }
  },
  "cells": [
    {
      "cell_type": "markdown",
      "source": [
        "# Identitas Diri\n",
        "Nama : Indiarto Aji Begawan \\\n",
        "Email : indiartoaji13@gmail.com \\\n",
        "Learning Path : Belajar Pengembangan Machine Learning \\\n",
        "Materi : Proyek Akhir - Image Classification Model Deployment \\\n"
      ],
      "metadata": {
        "id": "jdqybtEiNKs2"
      }
    },
    {
      "cell_type": "markdown",
      "source": [
        "# Library"
      ],
      "metadata": {
        "id": "K6-OrwE9NQBG"
      }
    },
    {
      "cell_type": "code",
      "source": [
        "from numba import cuda\n",
        "cuda.select_device(0)\n",
        "cuda.close()"
      ],
      "metadata": {
        "id": "7GRELwwNgFm0"
      },
      "execution_count": 1,
      "outputs": []
    },
    {
      "cell_type": "code",
      "execution_count": 2,
      "metadata": {
        "id": "QiSSBNXpM1_V"
      },
      "outputs": [],
      "source": [
        "import os\n",
        "import numpy as np\n",
        "import pandas as pd\n",
        "import tensorflow as tf\n",
        "import matplotlib.pyplot as plt\n",
        "\n",
        "from tensorflow.keras import regularizers\n",
        "from sklearn.metrics import classification_report, confusion_matrix\n",
        "from tensorflow.keras.preprocessing.image import ImageDataGenerator\n",
        "from keras.callbacks import ModelCheckpoint, TensorBoard, ReduceLROnPlateau, EarlyStopping"
      ]
    },
    {
      "cell_type": "markdown",
      "source": [
        "# Collect data from local"
      ],
      "metadata": {
        "id": "7i-cqh4gQIq4"
      }
    },
    {
      "cell_type": "markdown",
      "source": [
        "Dataset Rice Image diambil dari website Kaggle dengan nama yang sama. Link datasetnya adalah : https://www.kaggle.com/datasets/muratkokludataset/rice-image-dataset.\n",
        "Proyek ini menggubakan beberapa dataset dari Kaggle yaitu Sea Animal Image, Yoga Posture, Animals-10, dan Rice Image. Tiga dataset pertama menghasilkan nilai akurasi, waktu training serta improvement tiap epoch pada train dan validation data yang kurang baik."
      ],
      "metadata": {
        "id": "3Ktn_Rs7T1Zk"
      }
    },
    {
      "cell_type": "code",
      "source": [
        "# base_path = 'Belajar Pengembangan Machine Learning/Asset/SeaAnimalsImageDataset/'\n",
        "# base_path = 'Belajar Pengembangan Machine Learning/Asset/YogaPostureDataset/'\n",
        "# base_path = 'Belajar Pengembangan Machine Learning/Asset/Animals-10Dataset/'\n",
        "base_path = 'Belajar Pengembangan Machine Learning/Asset/RiceImageDataset/'\n",
        "\n",
        "files_names = os.listdir(base_path)"
      ],
      "metadata": {
        "id": "2svLSMd7N6ik"
      },
      "execution_count": 3,
      "outputs": []
    },
    {
      "cell_type": "code",
      "source": [
        "sum = 0\n",
        "for i, names in enumerate(files_names):\n",
        "  print(f\"{names} : {len(os.listdir((base_path+names)))}\")\n",
        "  sum += len(os.listdir((base_path+names)))\n",
        "\n",
        "print(f\"\\nSum of all images : {sum}\")\n",
        "num_classes = i+1\n",
        "print(f\"Number of classes : {num_classes}\")"
      ],
      "metadata": {
        "colab": {
          "base_uri": "https://localhost:8080/"
        },
        "id": "UFn-C7IJOcpH",
        "outputId": "ff98b21f-b961-4964-d159-574bb64b2a73"
      },
      "execution_count": 4,
      "outputs": [
        {
          "output_type": "stream",
          "name": "stdout",
          "text": [
            "Arborio : 3000\n",
            "Basmati : 3000\n",
            "Ipsala : 3000\n",
            "Jasmine : 3000\n",
            "Karacadag : 3000\n",
            "\n",
            "Sum of all images : 15000\n",
            "Number of classes : 5\n"
          ]
        }
      ]
    },
    {
      "cell_type": "markdown",
      "source": [
        "# Pre-Processing"
      ],
      "metadata": {
        "id": "Ws7EZqKlGSRw"
      }
    },
    {
      "cell_type": "code",
      "source": [
        "train_dir = os.path.join(base_path)\n",
        "train_datagen = ImageDataGenerator(rescale=1./255,\n",
        "    rotation_range=20,\n",
        "    zoom_range=0.2,\n",
        "    shear_range=0.2,\n",
        "    fill_mode = 'nearest',\n",
        "    brightness_range=[0.5,2.0],\n",
        "    horizontal_flip=True,\n",
        "    validation_split=0.2) # set validation split"
      ],
      "metadata": {
        "id": "smE8aQMDPKqs"
      },
      "execution_count": 5,
      "outputs": []
    },
    {
      "cell_type": "code",
      "source": [
        "size = (150,150)\n",
        "train_generator = train_datagen.flow_from_directory(\n",
        "    train_dir,\n",
        "    target_size=size,\n",
        "    batch_size=8,\n",
        "    class_mode='categorical',\n",
        "    subset='training') # set as training data\n",
        "validation_generator = train_datagen.flow_from_directory(\n",
        "    train_dir, # same directory as training data\n",
        "    target_size=size,\n",
        "    batch_size=16,\n",
        "    class_mode='categorical',\n",
        "    subset='validation')"
      ],
      "metadata": {
        "colab": {
          "base_uri": "https://localhost:8080/"
        },
        "id": "HQrXZ0buQQkw",
        "outputId": "b875b420-dc0f-472f-f54e-5a8e49101f72"
      },
      "execution_count": 6,
      "outputs": [
        {
          "output_type": "stream",
          "name": "stdout",
          "text": [
            "Found 12000 images belonging to 5 classes.\n",
            "Found 3000 images belonging to 5 classes.\n"
          ]
        }
      ]
    },
    {
      "cell_type": "markdown",
      "source": [
        "# Training Model"
      ],
      "metadata": {
        "id": "wOU5iYOsGdEA"
      }
    },
    {
      "cell_type": "code",
      "source": [
        "reg = regularizers.l2(l=0.01)\n",
        "\n",
        "model = tf.keras.models.Sequential([\n",
        "    tf.keras.layers.Conv2D(64, (3,3), activation='relu',padding='valid', input_shape=(150, 150, 3)),\n",
        "    tf.keras.layers.Conv2D(32, (3,3), activation='relu',padding='valid',kernel_regularizer=reg),\n",
        "    tf.keras.layers.MaxPooling2D(2,2),\n",
        "    tf.keras.layers.Conv2D(32, (3,3), activation='relu',padding='valid',kernel_regularizer=reg),\n",
        "    tf.keras.layers.Conv2D(32, (3,3), activation='relu',padding='valid',kernel_regularizer=reg),\n",
        "    tf.keras.layers.MaxPooling2D(2,2),\n",
        "    tf.keras.layers.Dropout(0.4),  \n",
        "    tf.keras.layers.Conv2D(64, (3,3), activation='relu',padding='valid',kernel_regularizer=reg), \n",
        "    tf.keras.layers.Conv2D(64, (3,3), activation='relu',padding='valid',kernel_regularizer=reg), \n",
        "    tf.keras.layers.Conv2D(64, (3,3), activation='relu',padding='valid',kernel_regularizer=reg), \n",
        "    tf.keras.layers.Conv2D(64, (3,3), activation='relu',padding='valid',kernel_regularizer=reg), \n",
        "    tf.keras.layers.MaxPooling2D(2,2),\n",
        "    tf.keras.layers.Dropout(0.4),  \n",
        "    tf.keras.layers.Flatten(), \n",
        "    tf.keras.layers.Dense(1024, activation='relu'),\n",
        "    tf.keras.layers.Dense(num_classes, activation='softmax')  \n",
        "])\n",
        "# Callbacks\n",
        "saved_path = \"./Belajar Pengembangan Machine Learning/models/ProyekAkhir.h5\"\n",
        "checkpoint = ModelCheckpoint(saved_path, monitor='val_accuracy', verbose=1, save_best_only=True, save_weights_only=False, mode='auto')\n",
        "reducelr   = ReduceLROnPlateau(monitor='val_accuracy', factor=0, patience=100, min_delta=0.01,verbose=1)\n",
        "cb_list    = [checkpoint, reducelr]\n",
        "\n",
        "model.summary()\n",
        "model.compile(optimizer=tf.optimizers.Adam(learning_rate=0.0001),\n",
        "              loss='categorical_crossentropy',\n",
        "              metrics = ['accuracy'])"
      ],
      "metadata": {
        "colab": {
          "base_uri": "https://localhost:8080/"
        },
        "id": "B9_PlI-GRM3Y",
        "outputId": "879bcc22-8e80-4e52-c1cf-dd5bec254d72"
      },
      "execution_count": 9,
      "outputs": [
        {
          "output_type": "stream",
          "name": "stdout",
          "text": [
            "Model: \"sequential_1\"\n",
            "_________________________________________________________________\n",
            " Layer (type)                Output Shape              Param #   \n",
            "=================================================================\n",
            " conv2d_6 (Conv2D)           (None, 148, 148, 64)      1792      \n",
            "                                                                 \n",
            " conv2d_7 (Conv2D)           (None, 146, 146, 32)      18464     \n",
            "                                                                 \n",
            " max_pooling2d_3 (MaxPooling  (None, 73, 73, 32)       0         \n",
            " 2D)                                                             \n",
            "                                                                 \n",
            " conv2d_8 (Conv2D)           (None, 71, 71, 32)        9248      \n",
            "                                                                 \n",
            " conv2d_9 (Conv2D)           (None, 69, 69, 32)        9248      \n",
            "                                                                 \n",
            " max_pooling2d_4 (MaxPooling  (None, 34, 34, 32)       0         \n",
            " 2D)                                                             \n",
            "                                                                 \n",
            " dropout_2 (Dropout)         (None, 34, 34, 32)        0         \n",
            "                                                                 \n",
            " conv2d_10 (Conv2D)          (None, 32, 32, 64)        18496     \n",
            "                                                                 \n",
            " conv2d_11 (Conv2D)          (None, 30, 30, 64)        36928     \n",
            "                                                                 \n",
            " conv2d_12 (Conv2D)          (None, 28, 28, 64)        36928     \n",
            "                                                                 \n",
            " conv2d_13 (Conv2D)          (None, 26, 26, 64)        36928     \n",
            "                                                                 \n",
            " max_pooling2d_5 (MaxPooling  (None, 13, 13, 64)       0         \n",
            " 2D)                                                             \n",
            "                                                                 \n",
            " dropout_3 (Dropout)         (None, 13, 13, 64)        0         \n",
            "                                                                 \n",
            " flatten_1 (Flatten)         (None, 10816)             0         \n",
            "                                                                 \n",
            " dense_2 (Dense)             (None, 1024)              11076608  \n",
            "                                                                 \n",
            " dense_3 (Dense)             (None, 5)                 5125      \n",
            "                                                                 \n",
            "=================================================================\n",
            "Total params: 11,249,765\n",
            "Trainable params: 11,249,765\n",
            "Non-trainable params: 0\n",
            "_________________________________________________________________\n"
          ]
        }
      ]
    },
    {
      "cell_type": "code",
      "source": [
        "history = model.fit(train_generator,\n",
        "                    validation_data=validation_generator,\n",
        "                    epochs=25,\n",
        "                    verbose=1,\n",
        "                    callbacks=cb_list)"
      ],
      "metadata": {
        "colab": {
          "base_uri": "https://localhost:8080/"
        },
        "id": "t1wkGEABRlk5",
        "outputId": "7998a44e-2b5e-4409-bf74-5fdc15981999"
      },
      "execution_count": 10,
      "outputs": [
        {
          "output_type": "stream",
          "name": "stdout",
          "text": [
            "Epoch 1/25\n",
            "1499/1500 [============================>.] - ETA: 0s - loss: 1.8617 - accuracy: 0.7880\n",
            "Epoch 1: val_accuracy improved from -inf to 0.85167, saving model to ./Belajar Pengembangan Machine Learning/models\\ProyekAkhir.h5\n",
            "1500/1500 [==============================] - 119s 79ms/step - loss: 1.8610 - accuracy: 0.7882 - val_loss: 1.0372 - val_accuracy: 0.8517 - lr: 1.0000e-04\n",
            "Epoch 2/25\n",
            "1500/1500 [==============================] - ETA: 0s - loss: 0.8802 - accuracy: 0.8390\n",
            "Epoch 2: val_accuracy improved from 0.85167 to 0.85733, saving model to ./Belajar Pengembangan Machine Learning/models\\ProyekAkhir.h5\n",
            "1500/1500 [==============================] - 55s 37ms/step - loss: 0.8802 - accuracy: 0.8390 - val_loss: 0.7120 - val_accuracy: 0.8573 - lr: 1.0000e-04\n",
            "Epoch 3/25\n",
            "1499/1500 [============================>.] - ETA: 0s - loss: 0.6596 - accuracy: 0.8477\n",
            "Epoch 3: val_accuracy did not improve from 0.85733\n",
            "1500/1500 [==============================] - 55s 37ms/step - loss: 0.6594 - accuracy: 0.8478 - val_loss: 0.5762 - val_accuracy: 0.8550 - lr: 1.0000e-04\n",
            "Epoch 4/25\n",
            "1499/1500 [============================>.] - ETA: 0s - loss: 0.5444 - accuracy: 0.8530\n",
            "Epoch 4: val_accuracy did not improve from 0.85733\n",
            "1500/1500 [==============================] - 55s 37ms/step - loss: 0.5444 - accuracy: 0.8530 - val_loss: 0.5016 - val_accuracy: 0.8510 - lr: 1.0000e-04\n",
            "Epoch 5/25\n",
            "1499/1500 [============================>.] - ETA: 0s - loss: 0.4932 - accuracy: 0.8471\n",
            "Epoch 5: val_accuracy improved from 0.85733 to 0.86567, saving model to ./Belajar Pengembangan Machine Learning/models\\ProyekAkhir.h5\n",
            "1500/1500 [==============================] - 61s 41ms/step - loss: 0.4931 - accuracy: 0.8472 - val_loss: 0.4431 - val_accuracy: 0.8657 - lr: 1.0000e-04\n",
            "Epoch 6/25\n",
            "1500/1500 [==============================] - ETA: 0s - loss: 0.4406 - accuracy: 0.8568\n",
            "Epoch 6: val_accuracy improved from 0.86567 to 0.88167, saving model to ./Belajar Pengembangan Machine Learning/models\\ProyekAkhir.h5\n",
            "1500/1500 [==============================] - 57s 38ms/step - loss: 0.4406 - accuracy: 0.8568 - val_loss: 0.3895 - val_accuracy: 0.8817 - lr: 1.0000e-04\n",
            "Epoch 7/25\n",
            "1500/1500 [==============================] - ETA: 0s - loss: 0.3953 - accuracy: 0.8708\n",
            "Epoch 7: val_accuracy improved from 0.88167 to 0.90000, saving model to ./Belajar Pengembangan Machine Learning/models\\ProyekAkhir.h5\n",
            "1500/1500 [==============================] - 59s 39ms/step - loss: 0.3953 - accuracy: 0.8708 - val_loss: 0.3363 - val_accuracy: 0.9000 - lr: 1.0000e-04\n",
            "Epoch 8/25\n",
            "1499/1500 [============================>.] - ETA: 0s - loss: 0.3459 - accuracy: 0.8949\n",
            "Epoch 8: val_accuracy improved from 0.90000 to 0.91867, saving model to ./Belajar Pengembangan Machine Learning/models\\ProyekAkhir.h5\n",
            "1500/1500 [==============================] - 58s 39ms/step - loss: 0.3458 - accuracy: 0.8949 - val_loss: 0.2778 - val_accuracy: 0.9187 - lr: 1.0000e-04\n",
            "Epoch 9/25\n",
            "1500/1500 [==============================] - ETA: 0s - loss: 0.3048 - accuracy: 0.9062\n",
            "Epoch 9: val_accuracy improved from 0.91867 to 0.93733, saving model to ./Belajar Pengembangan Machine Learning/models\\ProyekAkhir.h5\n",
            "1500/1500 [==============================] - 57s 38ms/step - loss: 0.3048 - accuracy: 0.9062 - val_loss: 0.2421 - val_accuracy: 0.9373 - lr: 1.0000e-04\n",
            "Epoch 10/25\n",
            "1499/1500 [============================>.] - ETA: 0s - loss: 0.2770 - accuracy: 0.9210\n",
            "Epoch 10: val_accuracy improved from 0.93733 to 0.94200, saving model to ./Belajar Pengembangan Machine Learning/models\\ProyekAkhir.h5\n",
            "1500/1500 [==============================] - 57s 38ms/step - loss: 0.2769 - accuracy: 0.9211 - val_loss: 0.2295 - val_accuracy: 0.9420 - lr: 1.0000e-04\n",
            "Epoch 11/25\n",
            "1500/1500 [==============================] - ETA: 0s - loss: 0.2520 - accuracy: 0.9266\n",
            "Epoch 11: val_accuracy improved from 0.94200 to 0.95467, saving model to ./Belajar Pengembangan Machine Learning/models\\ProyekAkhir.h5\n",
            "1500/1500 [==============================] - 57s 38ms/step - loss: 0.2520 - accuracy: 0.9266 - val_loss: 0.1890 - val_accuracy: 0.9547 - lr: 1.0000e-04\n",
            "Epoch 12/25\n",
            "1500/1500 [==============================] - ETA: 0s - loss: 0.2300 - accuracy: 0.9337\n",
            "Epoch 12: val_accuracy improved from 0.95467 to 0.96033, saving model to ./Belajar Pengembangan Machine Learning/models\\ProyekAkhir.h5\n",
            "1500/1500 [==============================] - 58s 39ms/step - loss: 0.2300 - accuracy: 0.9337 - val_loss: 0.1837 - val_accuracy: 0.9603 - lr: 1.0000e-04\n",
            "Epoch 13/25\n",
            "1500/1500 [==============================] - ETA: 0s - loss: 0.2206 - accuracy: 0.9397\n",
            "Epoch 13: val_accuracy did not improve from 0.96033\n",
            "1500/1500 [==============================] - 56s 38ms/step - loss: 0.2206 - accuracy: 0.9397 - val_loss: 0.1798 - val_accuracy: 0.9547 - lr: 1.0000e-04\n",
            "Epoch 14/25\n",
            "1499/1500 [============================>.] - ETA: 0s - loss: 0.2136 - accuracy: 0.9414\n",
            "Epoch 14: val_accuracy improved from 0.96033 to 0.96200, saving model to ./Belajar Pengembangan Machine Learning/models\\ProyekAkhir.h5\n",
            "1500/1500 [==============================] - 57s 38ms/step - loss: 0.2135 - accuracy: 0.9414 - val_loss: 0.1584 - val_accuracy: 0.9620 - lr: 1.0000e-04\n",
            "Epoch 15/25\n",
            "1500/1500 [==============================] - ETA: 0s - loss: 0.2022 - accuracy: 0.9457\n",
            "Epoch 15: val_accuracy improved from 0.96200 to 0.96367, saving model to ./Belajar Pengembangan Machine Learning/models\\ProyekAkhir.h5\n",
            "1500/1500 [==============================] - 57s 38ms/step - loss: 0.2022 - accuracy: 0.9457 - val_loss: 0.1573 - val_accuracy: 0.9637 - lr: 1.0000e-04\n",
            "Epoch 16/25\n",
            "1499/1500 [============================>.] - ETA: 0s - loss: 0.2034 - accuracy: 0.9437\n",
            "Epoch 16: val_accuracy did not improve from 0.96367\n",
            "1500/1500 [==============================] - 57s 38ms/step - loss: 0.2034 - accuracy: 0.9438 - val_loss: 0.1543 - val_accuracy: 0.9623 - lr: 1.0000e-04\n",
            "Epoch 17/25\n",
            "1500/1500 [==============================] - ETA: 0s - loss: 0.1938 - accuracy: 0.9464\n",
            "Epoch 17: val_accuracy improved from 0.96367 to 0.96800, saving model to ./Belajar Pengembangan Machine Learning/models\\ProyekAkhir.h5\n",
            "1500/1500 [==============================] - 58s 39ms/step - loss: 0.1938 - accuracy: 0.9464 - val_loss: 0.1450 - val_accuracy: 0.9680 - lr: 1.0000e-04\n",
            "Epoch 18/25\n",
            "1499/1500 [============================>.] - ETA: 0s - loss: 0.1882 - accuracy: 0.9489\n",
            "Epoch 18: val_accuracy improved from 0.96800 to 0.97033, saving model to ./Belajar Pengembangan Machine Learning/models\\ProyekAkhir.h5\n",
            "1500/1500 [==============================] - 60s 40ms/step - loss: 0.1882 - accuracy: 0.9489 - val_loss: 0.1427 - val_accuracy: 0.9703 - lr: 1.0000e-04\n",
            "Epoch 19/25\n",
            "1500/1500 [==============================] - ETA: 0s - loss: 0.1779 - accuracy: 0.9507\n",
            "Epoch 19: val_accuracy did not improve from 0.97033\n",
            "1500/1500 [==============================] - 60s 40ms/step - loss: 0.1779 - accuracy: 0.9507 - val_loss: 0.1344 - val_accuracy: 0.9687 - lr: 1.0000e-04\n",
            "Epoch 20/25\n",
            "1500/1500 [==============================] - ETA: 0s - loss: 0.1812 - accuracy: 0.9503\n",
            "Epoch 20: val_accuracy did not improve from 0.97033\n",
            "1500/1500 [==============================] - 60s 40ms/step - loss: 0.1812 - accuracy: 0.9503 - val_loss: 0.1678 - val_accuracy: 0.9523 - lr: 1.0000e-04\n",
            "Epoch 21/25\n",
            "1499/1500 [============================>.] - ETA: 0s - loss: 0.1784 - accuracy: 0.9508\n",
            "Epoch 21: val_accuracy did not improve from 0.97033\n",
            "1500/1500 [==============================] - 60s 40ms/step - loss: 0.1783 - accuracy: 0.9508 - val_loss: 0.1524 - val_accuracy: 0.9617 - lr: 1.0000e-04\n",
            "Epoch 22/25\n",
            "1499/1500 [============================>.] - ETA: 0s - loss: 0.1737 - accuracy: 0.9530\n",
            "Epoch 22: val_accuracy did not improve from 0.97033\n",
            "1500/1500 [==============================] - 64s 42ms/step - loss: 0.1737 - accuracy: 0.9529 - val_loss: 0.1472 - val_accuracy: 0.9637 - lr: 1.0000e-04\n",
            "Epoch 23/25\n",
            "1500/1500 [==============================] - ETA: 0s - loss: 0.1690 - accuracy: 0.9561\n",
            "Epoch 23: val_accuracy improved from 0.97033 to 0.97267, saving model to ./Belajar Pengembangan Machine Learning/models\\ProyekAkhir.h5\n",
            "1500/1500 [==============================] - 71s 47ms/step - loss: 0.1690 - accuracy: 0.9561 - val_loss: 0.1261 - val_accuracy: 0.9727 - lr: 1.0000e-04\n",
            "Epoch 24/25\n",
            "1500/1500 [==============================] - ETA: 0s - loss: 0.1663 - accuracy: 0.9545\n",
            "Epoch 24: val_accuracy did not improve from 0.97267\n",
            "1500/1500 [==============================] - 60s 40ms/step - loss: 0.1663 - accuracy: 0.9545 - val_loss: 0.1336 - val_accuracy: 0.9690 - lr: 1.0000e-04\n",
            "Epoch 25/25\n",
            "1499/1500 [============================>.] - ETA: 0s - loss: 0.1632 - accuracy: 0.9581\n",
            "Epoch 25: val_accuracy did not improve from 0.97267\n",
            "1500/1500 [==============================] - 61s 41ms/step - loss: 0.1632 - accuracy: 0.9581 - val_loss: 0.1278 - val_accuracy: 0.9697 - lr: 1.0000e-04\n"
          ]
        }
      ]
    },
    {
      "cell_type": "markdown",
      "source": [
        "Hasil training model menghasilkan nilai training accuracy sebesar 95,81% dan validation accuracy sebesar 96,97%."
      ],
      "metadata": {
        "id": "nr0uOLqwXOhD"
      }
    },
    {
      "cell_type": "code",
      "source": [
        "# Grafik Accuracy dan Validation Accuracy\n",
        "plt.plot(history.history['accuracy'])\n",
        "plt.plot(history.history['val_accuracy'])\n",
        "plt.title('Model Accuracy')\n",
        "plt.ylabel('Accuracy')\n",
        "plt.xlabel('Epoch')\n",
        "plt.legend(['Train', 'Test'], loc='upper left')\n",
        "plt.show()\n",
        "\n",
        "# Grafik Accuracy dan Validation Accuracy\n",
        "plt.plot(history.history['loss'])\n",
        "plt.plot(history.history['val_loss'])\n",
        "plt.title('Model Loss')\n",
        "plt.ylabel('Loss')\n",
        "plt.xlabel('Epoch')\n",
        "plt.legend(['Train', 'Test'], loc='upper left')\n",
        "plt.show()"
      ],
      "metadata": {
        "colab": {
          "base_uri": "https://localhost:8080/",
          "height": 573
        },
        "id": "6z3IZaDARs7W",
        "outputId": "8c54bbf0-a381-4e56-b450-bbfbdf89fa32"
      },
      "execution_count": 12,
      "outputs": [
        {
          "output_type": "display_data",
          "data": {
            "text/plain": [
              "<Figure size 432x288 with 1 Axes>"
            ],
            "image/png": "[encoded data removed]"
          },
          "metadata": {
            "needs_background": "light"
          }
        },
        {
          "output_type": "display_data",
          "data": {
            "text/plain": [
              "<Figure size 432x288 with 1 Axes>"
            ],
            "image/png": "[encoded data removed]"
          },
          "metadata": {
            "needs_background": "light"
          }
        }
      ]
    },
    {
      "cell_type": "markdown",
      "source": [
        "# Save model to TF-Lite"
      ],
      "metadata": {
        "id": "7lVH903rVr4J"
      }
    },
    {
      "cell_type": "code",
      "source": [
        "save_path = './Belajar Pengembangan Machine Learning/models/ProyekAkhir'\n",
        "tf.saved_model.save(model, save_path)"
      ],
      "metadata": {
        "colab": {
          "base_uri": "https://localhost:8080/"
        },
        "id": "c9xOYzBfVwv4",
        "outputId": "b8e05a5f-50fd-4e86-9cb1-f45aea7df00b"
      },
      "execution_count": 13,
      "outputs": [
        {
          "output_type": "stream",
          "name": "stderr",
          "text": [
            "WARNING:absl:Found untraced functions such as _jit_compiled_convolution_op, _jit_compiled_convolution_op, _jit_compiled_convolution_op, _jit_compiled_convolution_op, _jit_compiled_convolution_op while saving (showing 5 of 8). These functions will not be directly callable after loading.\n"
          ]
        },
        {
          "output_type": "stream",
          "name": "stdout",
          "text": [
            "INFO:tensorflow:Assets written to: ./Belajar Pengembangan Machine Learning/models/ProyekAkhir\\assets\n"
          ]
        },
        {
          "output_type": "stream",
          "name": "stderr",
          "text": [
            "INFO:tensorflow:Assets written to: ./Belajar Pengembangan Machine Learning/models/ProyekAkhir\\assets\n"
          ]
        }
      ]
    },
    {
      "cell_type": "code",
      "source": [
        "model_path = './Belajar Pengembangan Machine Learning/models/ProyekAkhir'\n",
        "converter = tf.lite.TFLiteConverter.from_saved_model(model_path)\n",
        "tflite_model = converter.convert()\n",
        "\n",
        "with tf.io.gfile.GFile('./Belajar Pengembangan Machine Learning/models/ProyekAkhir.tflite', 'wb') as f:\n",
        "    f.write(tflite_model)"
      ],
      "metadata": {
        "id": "qBuU-2JVWQ5V"
      },
      "execution_count": 19,
      "outputs": []
    }
  ]
}